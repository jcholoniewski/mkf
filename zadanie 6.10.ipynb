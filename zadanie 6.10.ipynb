{
 "cells": [
  {
   "cell_type": "markdown",
   "metadata": {},
   "source": [
    "# Zadanie 6.10"
   ]
  },
  {
   "cell_type": "markdown",
   "metadata": {},
   "source": [
    "Szukamy ułamka $m/n \\in [0.3155,0.3165]$ o najmniejszym mianowniku $n$.\n",
    "\n",
    "Przedstawmy ograniczenie z góry i z dołu w postaci ilorazów:\n",
    "\n",
    "$d = 0.3155 = \\frac{631}{2000}$\n",
    "\n",
    "$u = 0.3165 = \\frac{633}{2000}$\n",
    "\n",
    "Reprezentacja SB szukanego ułamka to pierwsze $x$ wyrazów reprezentacji $u$ bądź $d$, gdzie $x=\\min(i:\\,u_i\\neq d_i)$. Dzieje się tak dlatego, że jest to pierwszy napotykany ułamek w drzewie SB (a więc o najmniejszym mianowniku) leżący w zadanym przedziale (a więc na prawo od mniejszej liczby i na lewo od większej liczby)."
   ]
  },
  {
   "cell_type": "code",
   "execution_count": 32,
   "metadata": {
    "collapsed": false
   },
   "outputs": [
    {
     "name": "stdout",
     "output_type": "stream",
     "text": [
      "LPPL\n"
     ]
    }
   ],
   "source": [
    "def SBencoder(num=5,den=7):\n",
    "    res = ''\n",
    "    m = num\n",
    "    n = den\n",
    "    while n!=m:\n",
    "        if m < n:\n",
    "            res += 'L'\n",
    "            n = n - m\n",
    "        else:\n",
    "            res += 'P'\n",
    "            m = m - n\n",
    "    return res\n",
    "print SBencoder()"
   ]
  },
  {
   "cell_type": "code",
   "execution_count": 36,
   "metadata": {
    "collapsed": false
   },
   "outputs": [
    {
     "name": "stdout",
     "output_type": "stream",
     "text": [
      "LLLPPPPPLPPPPPPPPLPPLP\n",
      "LLLPPPPPPLLLPLLPLLLLL\n"
     ]
    }
   ],
   "source": [
    "d = SBencoder(631,2000)\n",
    "print d\n",
    "u = SBencoder(633,2000)\n",
    "print u"
   ]
  },
  {
   "cell_type": "code",
   "execution_count": 42,
   "metadata": {
    "collapsed": false
   },
   "outputs": [
    {
     "name": "stdout",
     "output_type": "stream",
     "text": [
      "LLLPPPPP\n",
      "LLLPPPPP\n"
     ]
    }
   ],
   "source": [
    "i = 0\n",
    "while 1==1:\n",
    "    if not u[i]==d[i]:\n",
    "        break\n",
    "    i+=1\n",
    "print d[:i]\n",
    "print u[:i]\n",
    "m_over_n = d[:i]"
   ]
  },
  {
   "cell_type": "code",
   "execution_count": 38,
   "metadata": {
    "collapsed": false
   },
   "outputs": [
    {
     "name": "stdout",
     "output_type": "stream",
     "text": [
      "Szukany ułamek to 6/19.\n"
     ]
    }
   ],
   "source": [
    "def SBTdecoder(in_str='LPPL'):\n",
    "    res = I\n",
    "    for s in in_str:\n",
    "        if s == 'P':\n",
    "            res = res * P\n",
    "        if s =='L':\n",
    "            res = res * L\n",
    "    return np.sum(res[1,:]), np.sum(res[0,:])\n",
    "print 'Szukany ułamek to %d/%d.' % SBTdecoder(m_over_n)"
   ]
  },
  {
   "cell_type": "markdown",
   "metadata": {},
   "source": [
    "Zatem wykonano przynajmniej 19 rzutów."
   ]
  }
 ],
 "metadata": {
  "kernelspec": {
   "display_name": "Python 2",
   "language": "python",
   "name": "python2"
  },
  "language_info": {
   "codemirror_mode": {
    "name": "ipython",
    "version": 2
   },
   "file_extension": ".py",
   "mimetype": "text/x-python",
   "name": "python",
   "nbconvert_exporter": "python",
   "pygments_lexer": "ipython2",
   "version": "2.7.13"
  }
 },
 "nbformat": 4,
 "nbformat_minor": 2
}
